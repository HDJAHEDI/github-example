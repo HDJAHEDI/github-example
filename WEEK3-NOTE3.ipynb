{
 "cells": [
  {
   "cell_type": "code",
   "execution_count": null,
   "metadata": {},
   "outputs": [],
   "source": [
    "!conda install -c conda-forge folium=0.5.0 --yes"
   ]
  },
  {
   "cell_type": "code",
   "execution_count": null,
   "metadata": {},
   "outputs": [],
   "source": [
    "import pandas     as pd\n",
    "import numpy      as np\n",
    "from geopy.geocoders import Nominatim\n",
    "import matplotlib.cm as cm\n",
    "import matplotlib.colors as colors\n",
    "import folium\n",
    "from sklearn.cluster import KMeans"
   ]
  },
  {
   "cell_type": "code",
   "execution_count": null,
   "metadata": {},
   "outputs": [],
   "source": [
    "#get html and scrap with pandas\n",
    "data = pd.read_html('https://en.wikipedia.org/wiki/List_of_postal_codes_of_Canada:_M')[0]\n",
    "#rename columns to proper Names\n",
    "data.rename(index=str,columns={0:'Postcode',1:'Borough',2:'Neighbourhood'},inplace = True)\n",
    "#first row is not valid\n",
    "data.drop(['0'],inplace = True)\n",
    "#Only process the cells that have an assigned borough. Ignore cells with a borough that is Not assigned\n",
    "data.drop(data[data['Borough'] == 'Not assigned'].index,inplace = True)\n",
    "#If a cell has a borough but a Not assigned neighborhood, then the neighborhood will be the same as the borough\n",
    "data['Neighbourhood'][data['Neighbourhood'] == 'Not assigned'] = data['Borough'][data['Neighbourhood'] == 'Not assigned']"
   ]
  },
  {
   "cell_type": "code",
   "execution_count": null,
   "metadata": {},
   "outputs": [],
   "source": [
    "#reset Index I think this is not mandatory\n",
    "data.reset_index(inplace = True)\n",
    "data.drop(columns=['index'], axis = 1,inplace = True)"
   ]
  },
  {
   "cell_type": "code",
   "execution_count": null,
   "metadata": {},
   "outputs": [],
   "source": [
    "data['Neighbourhood'] = '%' + data['Neighbourhood'].astype(str) + '%'\n",
    "data = data.groupby(['Postcode' ,'Borough' ],as_index = False)['Neighbourhood'].sum()\n",
    "data['Neighbourhood'] = data['Neighbourhood'].str.replace('%%',', ')\n",
    "data['Neighbourhood'] = data['Neighbourhood'].str.replace('%','')"
   ]
  },
  {
   "cell_type": "code",
   "execution_count": null,
   "metadata": {},
   "outputs": [],
   "source": [
    "geo_data = pd.read_csv('http://cocl.us/Geospatial_data')\n",
    "geo_data.rename(index=str,columns={'Postal Code':'Postcode'},inplace = True)"
   ]
  },
  {
   "cell_type": "code",
   "execution_count": null,
   "metadata": {},
   "outputs": [],
   "source": [
    "data = data.join(geo_data.set_index('Postcode'), on='Postcode')"
   ]
  },
  {
   "cell_type": "code",
   "execution_count": null,
   "metadata": {},
   "outputs": [],
   "source": [
    "address = 'Toronto City, TO'\n",
    "\n",
    "geolocator = Nominatim(user_agent=\"ny_explorer\")\n",
    "location = geolocator.geocode(address)\n",
    "latitude = location.latitude\n",
    "longitude = location.longitude\n",
    "print('The geograpical coordinate of Toronto City are {}, {}.'.format(latitude, longitude))"
   ]
  },
  {
   "cell_type": "markdown",
   "metadata": {},
   "source": [
    "I real don't have any new idea about clustering of Toronto city Neighbourhoods and I don't Like to do just the same as we did to New york city, I just decide to cluster them in 5 by their Latitude and Longitude\n",
    "for a future use of Dorn postmans."
   ]
  },
  {
   "cell_type": "code",
   "execution_count": null,
   "metadata": {},
   "outputs": [],
   "source": [
    "data_cluster = data.drop(columns={'Postcode','Borough','Neighbourhood'})\n",
    "K_clusters = 5\n",
    "kmeans = KMeans(n_clusters=K_clusters, random_state=0).fit(data_cluster)\n",
    "data['Cluster'] = kmeans.labels_"
   ]
  },
  {
   "cell_type": "code",
   "execution_count": null,
   "metadata": {},
   "outputs": [],
   "source": [
    "map_clusters = folium.Map(width=1000,height=500,location=[latitude, longitude], zoom_start=11)\n",
    "\n",
    "x = np.arange(K_clusters)\n",
    "ys = [i + x + (i*x)**2 for i in range(K_clusters)]\n",
    "colors_array = cm.rainbow(np.linspace(0, 1, len(ys)))\n",
    "rainbow = [colors.rgb2hex(i) for i in colors_array]\n",
    "\n",
    "markers_colors = []\n",
    "for lat, lon, poi, cluster in zip(data['Latitude'],data['Longitude'], data['Neighbourhood'], data['Cluster']):\n",
    "    label = folium.Popup(str(poi) + ' Cluster ' + str(cluster), parse_html=True)\n",
    "    folium.CircleMarker( [lat, lon]\n",
    "                       , radius       =  5\n",
    "                       , popup        =  label\n",
    "                       , color        =  rainbow[cluster-1]\n",
    "                       , fill         =  True\n",
    "                       , fill_color   =  rainbow[cluster-1]\n",
    "                       , fill_opacity =  0.7\n",
    "                       , parse_html   =  False      ).add_to(map_clusters)       \n",
    "map_clusters"
   ]
  }
 ],
 "metadata": {
  "kernelspec": {
   "display_name": "Python 3.5",
   "language": "python",
   "name": "python3"
  },
  "language_info": {
   "codemirror_mode": {
    "name": "ipython",
    "version": 3
   },
   "file_extension": ".py",
   "mimetype": "text/x-python",
   "name": "python",
   "nbconvert_exporter": "python",
   "pygments_lexer": "ipython3",
   "version": "3.5.5"
  }
 },
 "nbformat": 4,
 "nbformat_minor": 1
}
