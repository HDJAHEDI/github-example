{
 "cells": [
  {
   "cell_type": "code",
   "execution_count": null,
   "metadata": {},
   "outputs": [],
   "source": [
    "import pandas     as pd\n",
    "import numpy      as np"
   ]
  },
  {
   "cell_type": "code",
   "execution_count": null,
   "metadata": {},
   "outputs": [],
   "source": [
    "#get html and scrap with pandas\n",
    "data = pd.read_html('https://en.wikipedia.org/wiki/List_of_postal_codes_of_Canada:_M')[0]\n",
    "#rename columns to proper Names\n",
    "data.rename(index=str,columns={0:'Postcode',1:'Borough',2:'Neighbourhood'},inplace = True)\n",
    "#first row is not valid\n",
    "data.drop(['0'],inplace = True)\n",
    "#Only process the cells that have an assigned borough. Ignore cells with a borough that is Not assigned\n",
    "data.drop(data[data['Borough'] == 'Not assigned'].index,inplace = True)\n",
    "#If a cell has a borough but a Not assigned neighborhood, then the neighborhood will be the same as the borough\n",
    "data['Neighbourhood'][data['Neighbourhood'] == 'Not assigned'] = data['Borough'][data['Neighbourhood'] == 'Not assigned']"
   ]
  },
  {
   "cell_type": "code",
   "execution_count": null,
   "metadata": {},
   "outputs": [],
   "source": [
    "#reset Index I think this is not mandatory\n",
    "data.reset_index(inplace = True)\n",
    "data.drop(columns=['index'], axis = 1,inplace = True)"
   ]
  },
  {
   "cell_type": "code",
   "execution_count": null,
   "metadata": {},
   "outputs": [],
   "source": [
    "data['Neighbourhood'] = '%' + data['Neighbourhood'].astype(str) + '%'\n",
    "data = data.groupby(['Postcode' ,'Borough' ],as_index = False)['Neighbourhood'].sum()\n",
    "data['Neighbourhood'] = data['Neighbourhood'].str.replace('%%',', ')\n",
    "data['Neighbourhood'] = data['Neighbourhood'].str.replace('%','')"
   ]
  },
  {
   "cell_type": "code",
   "execution_count": null,
   "metadata": {},
   "outputs": [],
   "source": [
    "geo_data = pd.read_csv('http://cocl.us/Geospatial_data')\n",
    "geo_data.rename(index=str,columns={'Postal Code':'Postcode'},inplace = True)"
   ]
  },
  {
   "cell_type": "code",
   "execution_count": null,
   "metadata": {},
   "outputs": [],
   "source": [
    "data = data.join(geo_data.set_index('Postcode'), on='Postcode')\n",
    "data.head(50)"
   ]
  }
 ],
 "metadata": {
  "kernelspec": {
   "display_name": "Python 3.5",
   "language": "python",
   "name": "python3"
  },
  "language_info": {
   "codemirror_mode": {
    "name": "ipython",
    "version": 3
   },
   "file_extension": ".py",
   "mimetype": "text/x-python",
   "name": "python",
   "nbconvert_exporter": "python",
   "pygments_lexer": "ipython3",
   "version": "3.5.5"
  }
 },
 "nbformat": 4,
 "nbformat_minor": 1
}
